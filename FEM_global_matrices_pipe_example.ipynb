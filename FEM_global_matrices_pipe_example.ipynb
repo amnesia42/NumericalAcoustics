{
 "cells": [
  {
   "cell_type": "markdown",
   "metadata": {},
   "source": [
    "#### This is a [jupyter](https://jupyter.org/) notebook that contains text, equations, images and executable code in one document."
   ]
  },
  {
   "cell_type": "code",
   "execution_count": 1,
   "metadata": {},
   "outputs": [],
   "source": [
    "import numpy as np\n",
    "import matplotlib.pyplot as plt\n",
    "import sympy as sy\n",
    "import ipywidgets as ipw\n",
    "%matplotlib inline\n",
    "sy.init_printing(use_latex=True)"
   ]
  },
  {
   "cell_type": "markdown",
   "metadata": {},
   "source": [
    "# Finite Elements: Global Matrices for Pipe Example\n",
    "In this example, we will use the one-dimensional linear elements to calculate the sound field inside a pipe. First we take a look a the problem at hand. The pipe has a length $l$, and the fluid inside the pipe has a speed of sound $c$. The domain where the sound field is of interest is one-dimensional and it is partitioned into $N$ elements. The partition does not need to be equidistant. Therefore we allow a certain randomness to generate the FE mesh. The function _generate1D_ generates the node coordinates."
   ]
  },
  {
   "cell_type": "code",
   "execution_count": 2,
   "metadata": {},
   "outputs": [
    {
     "data": {
      "application/vnd.jupyter.widget-view+json": {
       "model_id": "cd2acdd6a72d4821929279f75071c4a8",
       "version_major": 2,
       "version_minor": 0
      },
      "text/plain": [
       "interactive(children=(IntSlider(value=10, description='N', max=30, min=-10), FloatSlider(value=0.0, descriptio…"
      ]
     },
     "metadata": {},
     "output_type": "display_data"
    }
   ],
   "source": [
    "def generate1D(N, l=1, randomness=0): \n",
    "    x = (np.ones(N+1)+np.random.normal(size=N+1)*randomness).cumsum()\n",
    "    x -= x[0]\n",
    "    return x*l/x[-1]\n",
    "\n",
    "def plot_nodes(x):\n",
    "    plt.plot(x,np.zeros_like(x),'o')\n",
    "    for i,xi in enumerate(x):\n",
    "        plt.text(xi,x[-1]/20,'%i' % i,horizontalalignment='center')\n",
    "    plt.axis('equal')\n",
    "    plt.axis('off')\n",
    "\n",
    "@ipw.interact(N=10,rn=0.0)    \n",
    "def plot_nodes_interact(N,rn):\n",
    "    plt.figure(1,(10,2))\n",
    "    plot_nodes(generate1D(N,1.0,rn))    "
   ]
  },
  {
   "cell_type": "markdown",
   "metadata": {},
   "source": [
    "The $N$ elements each have two nodes. Because our example is so extremely simple, we can easily say which nodes belong to a certain element and which length the element has. We store this information in three arrays. In a more practical application we would have decide about a clever way to handle this information, especially when different element types are used within one mesh."
   ]
  },
  {
   "cell_type": "code",
   "execution_count": 3,
   "metadata": {},
   "outputs": [
    {
     "name": "stdout",
     "output_type": "stream",
     "text": [
      "element 0 has nodes [0 1] and length 0.097\n",
      "element 1 has nodes [1 2] and length 0.113\n",
      "element 2 has nodes [2 3] and length 0.105\n",
      "element 3 has nodes [3 4] and length 0.111\n",
      "element 4 has nodes [4 5] and length 0.096\n",
      "element 5 has nodes [5 6] and length 0.084\n",
      "element 6 has nodes [6 7] and length 0.097\n",
      "element 7 has nodes [7 8] and length 0.094\n",
      "element 8 has nodes [8 9] and length 0.104\n",
      "element 9 has nodes [ 9 10] and length 0.100\n"
     ]
    }
   ],
   "source": [
    "def get_element_information(x):\n",
    "    le = x[1:]-x[:-1]\n",
    "    n1_index = np.arange(x.shape[0]-1)\n",
    "    n2_index = n1_index+1\n",
    "    return np.vstack((n1_index,n2_index)).T,le\n",
    "\n",
    "# example with 10 finite elements\n",
    "for nidx, le in zip(*get_element_information(generate1D(10,1.0,0.1))):\n",
    "    print(\"element %i has nodes %s and length %.3f\" % (nidx[0],nidx,le))"
   ]
  },
  {
   "cell_type": "markdown",
   "metadata": {},
   "source": [
    "As this information is now available, we can compute all the element matrices. We know the entries of those from the derivation of the element mass matrix $\\mathbf{M_{el}}$ and the element stiffness matrix $\\mathbf{K_{el}}$."
   ]
  },
  {
   "cell_type": "code",
   "execution_count": 4,
   "metadata": {},
   "outputs": [],
   "source": [
    "def Kel(le):\n",
    "    return np.array(((1,-1),(-1,1)))[np.newaxis]/le[:,np.newaxis,np.newaxis] # dimensions Nx2x2\n",
    "\n",
    "def Mel(le, c=344):\n",
    "    return np.array(((2,1),(1,2)))[np.newaxis]*le[:,np.newaxis,np.newaxis]/6/c**2 # dimensions Nx2x2"
   ]
  },
  {
   "cell_type": "markdown",
   "metadata": {},
   "source": [
    "The global matrices $\\mathbf K$ and $\\mathbf M$ can now be assembled. The overall dimension of that matrices is $(N+1) \\times (N+1)$. As it will turn out that these matrices have only few nonzero elements, sparse matrix structures will be used to store the matrices. The assembly process just add each element matrix to the rows and columns that correspond to the node numbers for the element. "
   ]
  },
  {
   "cell_type": "code",
   "execution_count": 5,
   "metadata": {},
   "outputs": [
    {
     "data": {
      "text/plain": [
       "(<11x11 sparse matrix of type '<class 'numpy.float64'>'\n",
       " \twith 31 stored elements in List of Lists format>,\n",
       " <11x11 sparse matrix of type '<class 'numpy.float64'>'\n",
       " \twith 31 stored elements in List of Lists format>)"
      ]
     },
     "execution_count": 5,
     "metadata": {},
     "output_type": "execute_result"
    },
    {
     "data": {
      "image/png": "[encoded data removed]",
      "text/plain": [
       "<Figure size 720x288 with 4 Axes>"
      ]
     },
     "metadata": {
      "needs_background": "light"
     },
     "output_type": "display_data"
    }
   ],
   "source": [
    "import scipy.sparse as sp\n",
    "def assemble_global(X):\n",
    "    nidx,le = X\n",
    "    N = le.shape[0]\n",
    "    K = sp.lil_matrix((N+1,N+1),dtype='float')\n",
    "    M = sp.lil_matrix((N+1,N+1),dtype='float')\n",
    "    Ke = Kel(le)\n",
    "    Me = Mel(le)\n",
    "    for i in range(N):\n",
    "        K[np.ix_(nidx[i],nidx[i])] += Ke[i]\n",
    "        M[np.ix_(nidx[i],nidx[i])] += Me[i]\n",
    "    return K,M\n",
    "\n",
    "# example with 10 finite elements\n",
    "K,M = assemble_global(get_element_information(generate1D(10,1.0,0.1)))        \n",
    "fig, axarr = plt.subplots(1,2,figsize=(10,4))    \n",
    "msk = axarr[0].matshow(K.toarray()) \n",
    "fig.colorbar(msk,ax=axarr[0])\n",
    "msm = axarr[1].matshow(M.toarray()) \n",
    "fig.colorbar(msm,ax=axarr[1])\n",
    "K,M    "
   ]
  },
  {
   "cell_type": "markdown",
   "metadata": {},
   "source": [
    "Note, that both matrices are sparse and banded. The latter is not necessarily the case if the FE model has a different topology. However, the matrices columns and/or rows can be switched to get matrix where the non-zero elements concentrate around the main diagonal (form a band). This property can be of advantage for the numerical solution of the equations that arise in FE analysis.\n",
    "\n",
    "#### Modal extraction (numerical modal  analysis)\n",
    "\n",
    "Now that we have the global stiffness and mass matrices, we can compute the eigenfrequencies of the pipe. We assume both ends of the pipe to be rigidly terminated. Thus, all elements of the rhs vector are zero:\n",
    "\\begin{equation}\n",
    "\\mathbf{K}\\mathbf{p}-\n",
    "\\omega^2 \\mathbf{M} \\mathbf{p} = 0\n",
    "\\end{equation}\n",
    "This is equivalent to the (generalized) eigenvalue problem\n",
    "\\begin{equation}\n",
    "\\mathbf{K}\\mathbf{p} =\n",
    "\\omega^2 \\mathbf{M} \\mathbf{p},\n",
    "\\end{equation}\n",
    "where $\\omega^2$ is the eigenvalue and $\\mathbf p$ the eigenvector. Generally we can expect to get up to $N+1$ pairs of eigenvalue and eigenvector.\n",
    "\n",
    "Let us now see the result for one case with $N=10$ identical elements and $l=1$m. The speed of sound is assumed to be 344 m/s."
   ]
  },
  {
   "cell_type": "code",
   "execution_count": 6,
   "metadata": {},
   "outputs": [
    {
     "name": "stdout",
     "output_type": "stream",
     "text": [
      "eigenfrequencies: [6.73236948e-06 1.72708167e+02 3.49682886e+02 5.35244046e+02\n",
      " 7.33625330e+02 9.48285700e+02 1.17993265e+03 1.42200037e+03]\n"
     ]
    }
   ],
   "source": [
    "from scipy.sparse.linalg import eigsh\n",
    "from scipy.linalg import eig\n",
    "x = generate1D(10,1.0,0.0)\n",
    "K,M = assemble_global(get_element_information(x))\n",
    "om2, evec = eigsh(K,M=M,sigma=1,k=8)\n",
    "freq =(om2**0.5)/2/np.pi\n",
    "print(\"eigenfrequencies:\", freq)"
   ]
  },
  {
   "cell_type": "markdown",
   "metadata": {},
   "source": [
    "The correct values can be computed from\n",
    "\\begin{equation}\n",
    "f_n = n\\frac{c}{2l}\\qquad p_n(x)=p_{0n}\\cos(\\frac{\\pi nx}{l})\n",
    "\\end{equation}\n",
    "and used for comparison with the values from FEM."
   ]
  },
  {
   "cell_type": "code",
   "execution_count": 7,
   "metadata": {},
   "outputs": [
    {
     "data": {
      "image/png": "[encoded data removed]",
      "text/plain": [
       "<Figure size 720x360 with 6 Axes>"
      ]
     },
     "metadata": {
      "needs_background": "light"
     },
     "output_type": "display_data"
    }
   ],
   "source": [
    "# N correct results\n",
    "def correct(N,l,c=344):\n",
    "    xn = np.linspace(0,l,100) # to discretize the correct result\n",
    "    pn = np.cos(np.pi*xn[:,np.newaxis]/l*np.arange(N)[np.newaxis])\n",
    "    fn = np.arange(N)*c/2/l\n",
    "    return fn, pn.T, xn\n",
    "# compare first six results\n",
    "fn,pn,xn = correct(6,1)\n",
    "pfem  = evec.T\n",
    "fig, axarr = plt.subplots(2,3,figsize=(10,5))\n",
    "for i in range(6):\n",
    "    axarr.flat[i].plot(xn,pn[i])\n",
    "    axarr.flat[i].set_title('%.1f Hz vs %.1f Hz' % (fn[i],freq[i]))\n",
    "    axarr.flat[i].plot(x,pfem[i]/pfem[i,0])    \n",
    "plt.tight_layout()"
   ]
  },
  {
   "cell_type": "markdown",
   "metadata": {},
   "source": [
    "Obviously the error increases with frequency. As the wavelength decreases with frequency and the element size is the same for all frequencies, it is also true that the error becomes small if we have more elements per wavelength. If we define the error for the eigenfrequency as\n",
    "\\begin{equation}\n",
    "\\epsilon = \\frac{\\left|f_{FEM}-f_n \\right|}{f_n}\n",
    "\\end{equation}\n",
    "we can plot this error over the number of elements per wavelength. This time we use 100 elements to get more data that we can plot."
   ]
  },
  {
   "cell_type": "code",
   "execution_count": 8,
   "metadata": {
    "scrolled": true
   },
   "outputs": [
    {
     "data": {
      "image/png": "[encoded data removed]",
      "text/plain": [
       "<Figure size 432x288 with 1 Axes>"
      ]
     },
     "metadata": {
      "needs_background": "light"
     },
     "output_type": "display_data"
    }
   ],
   "source": [
    "x = generate1D(100,1.0,0.0)\n",
    "K,M = assemble_global(get_element_information(x))\n",
    "om2, evec = eigsh(K,M=M,sigma=1,k=99)\n",
    "freq =(om2[1:]**0.5)/2/np.pi # to avoid zero freq.\n",
    "fn = np.arange(1,99)*172\n",
    "lambda_ = 344/fn\n",
    "el_per_lambda = lambda_*100/1.0\n",
    "error = np.abs(freq-fn)/fn\n",
    "plt.loglog(el_per_lambda,error)\n",
    "plt.grid(True,'both')"
   ]
  },
  {
   "cell_type": "markdown",
   "metadata": {},
   "source": [
    "From about six elements per wavelength, the error becomes less than 5%. Therefore, a rule of thumb, that is often used, says that elements should not be larger than 1/6 of the wavelength."
   ]
  },
  {
   "cell_type": "markdown",
   "metadata": {},
   "source": [
    "If you are interested, you could try and repeat the last three steps but this time with elements of somewhat different size, e.g. setting the randomness in _generate1D_ to 0.1 ."
   ]
  },
  {
   "cell_type": "markdown",
   "metadata": {},
   "source": [
    "#### Harmonic analysis - direct frequency response\n",
    "Now we assume that on one end of tube, a loudspeaker is mounted that excites the fluid with a harmonic acceleration that has a constant magnitude. This means that the first entry in the right hand side $\\mathbf F$ of the equation is nonzero and the equation can be solved for any given frequency $\\omega$:\n",
    "\\begin{equation}\n",
    "\\left(\\mathbf{K}-\n",
    "\\omega^2 \\mathbf{M}\\right) \\mathbf{p} = \\mathbf{F}\n",
    "\\end{equation}\n",
    "In our example, we solve for frequencies from 100 Hz to 800 Hz in steps of 5 Hz."
   ]
  },
  {
   "cell_type": "code",
   "execution_count": 9,
   "metadata": {},
   "outputs": [
    {
     "data": {
      "image/png": "[encoded data removed]",
      "text/plain": [
       "<Figure size 432x288 with 1 Axes>"
      ]
     },
     "metadata": {
      "needs_background": "light"
     },
     "output_type": "display_data"
    }
   ],
   "source": [
    "from scipy.sparse.linalg import spsolve\n",
    "x = generate1D(20,1.0,0.0) # 20 elements\n",
    "K,M = assemble_global(get_element_information(x))\n",
    "pl = [] #list of sound pressures to be filled with the results\n",
    "F = np.zeros_like(x)\n",
    "F[0] = 1.0\n",
    "freqs = np.arange(100,801,5)\n",
    "for f in freqs: # loop over all frequencies\n",
    "    A = K-(2*np.pi*f)**2 * M\n",
    "    p = spsolve(A,F)\n",
    "    pl.append(p[6])# store results at node 6\n",
    "pl = np.asarray(pl)\n",
    "plt.plot(freqs,20*np.log10(np.abs(pl)/2e-5))\n",
    "plt.title('SPL at node 6 (x=%.1f)' % x[6]);"
   ]
  },
  {
   "cell_type": "markdown",
   "metadata": {},
   "source": [
    "#### License\n",
    "\n",
    "This notebook is an [Open Educational Resource](https://en.wikipedia.org/wiki/Open_educational_resources). Feel free to use it for your own purposes. The text and the images are licensed under [Creative Commons Attribution 4.0](https://creativecommons.org/licenses/by/4.0/), and any code under the [MIT license](https://opensource.org/licenses/MIT). Please attribute the work as follows: Ennes Sarradj, Numerical Acoustics: Finite Elements: Global Matrices Pipe Example, 2019."
   ]
  }
 ],
 "metadata": {
  "kernelspec": {
   "display_name": "Python 3",
   "language": "python",
   "name": "python3"
  },
  "language_info": {
   "codemirror_mode": {
    "name": "ipython",
    "version": 3
   },
   "file_extension": ".py",
   "mimetype": "text/x-python",
   "name": "python",
   "nbconvert_exporter": "python",
   "pygments_lexer": "ipython3",
   "version": "3.7.6"
  },
  "latex_envs": {
   "LaTeX_envs_menu_present": true,
   "autoclose": false,
   "autocomplete": true,
   "bibliofile": "biblio.bib",
   "cite_by": "apalike",
   "current_citInitial": 1,
   "eqLabelWithNumbers": true,
   "eqNumInitial": 1,
   "hotkeys": {
    "equation": "Ctrl-E",
    "itemize": "Ctrl-I"
   },
   "labels_anchors": false,
   "latex_user_defs": false,
   "report_style_numbering": false,
   "user_envs_cfg": false
  },
  "varInspector": {
   "cols": {
    "lenName": 16,
    "lenType": 16,
    "lenVar": 40
   },
   "kernels_config": {
    "python": {
     "delete_cmd_postfix": "",
     "delete_cmd_prefix": "del ",
     "library": "var_list.py",
     "varRefreshCmd": "print(var_dic_list())"
    },
    "r": {
     "delete_cmd_postfix": ") ",
     "delete_cmd_prefix": "rm(",
     "library": "var_list.r",
     "varRefreshCmd": "cat(var_dic_list()) "
    }
   },
   "oldHeight": 122.466666,
   "position": {
    "height": "296px",
    "left": "1107px",
    "right": "37px",
    "top": "141px",
    "width": "328px"
   },
   "types_to_exclude": [
    "module",
    "function",
    "builtin_function_or_method",
    "instance",
    "_Feature"
   ],
   "varInspector_section_display": "block",
   "window_display": false
  },
  "widgets": {
   "application/vnd.jupyter.widget-state+json": {
    "state": {
     "192480e28d6949e5b5d0a3d7fd6308dc": {
      "model_module": "@jupyter-widgets/base",
      "model_module_version": "1.2.0",
      "model_name": "LayoutModel",
      "state": {}
     },
     "202b65ca3f9a4d849119d3ad954ef701": {
      "model_module": "@jupyter-widgets/base",
      "model_module_version": "1.2.0",
      "model_name": "LayoutModel",
      "state": {}
     },
     "20f1830d3b6a4b898a2978f786d6b13e": {
      "model_module": "@jupyter-widgets/controls",
      "model_module_version": "1.5.0",
      "model_name": "IntSliderModel",
      "state": {
       "description": "N",
       "layout": "IPY_MODEL_4f553754458a4dc480d8d74746ba44fa",
       "max": 30,
       "min": -10,
       "style": "IPY_MODEL_b068a44227bb45cda391810479955366",
       "value": 10
      }
     },
     "2594a6c5236b4e8c900b7a0f39943596": {
      "model_module": "@jupyter-widgets/controls",
      "model_module_version": "1.5.0",
      "model_name": "FloatSliderModel",
      "state": {
       "description": "rn",
       "layout": "IPY_MODEL_202b65ca3f9a4d849119d3ad954ef701",
       "max": 1,
       "step": 0.1,
       "style": "IPY_MODEL_7ec68a58c57f4856a766e2304e8aac2d",
       "value": 0.2
      }
     },
     "41f2ce459f1445edb8fc2e66ad07df14": {
      "model_module": "@jupyter-widgets/base",
      "model_module_version": "1.2.0",
      "model_name": "LayoutModel",
      "state": {}
     },
     "4373df918e7146e0a16f26d1e90f8d62": {
      "model_module": "@jupyter-widgets/output",
      "model_module_version": "1.0.0",
      "model_name": "OutputModel",
      "state": {
       "layout": "IPY_MODEL_bd2e7d3e83694aeb967aa714b210dd10",
       "outputs": [
        {
         "data": {
          "image/png": "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\n",
          "text/plain": "<Figure size 720x144 with 1 Axes>"
         },
         "metadata": {
          "needs_background": "light"
         },
         "output_type": "display_data"
        }
       ]
      }
     },
     "4acd782be13448f18c409dda933e0a4a": {
      "model_module": "@jupyter-widgets/controls",
      "model_module_version": "1.5.0",
      "model_name": "SliderStyleModel",
      "state": {
       "description_width": ""
      }
     },
     "4f553754458a4dc480d8d74746ba44fa": {
      "model_module": "@jupyter-widgets/base",
      "model_module_version": "1.2.0",
      "model_name": "LayoutModel",
      "state": {}
     },
     "6785bf7e548c44f091c73925bae6c0fa": {
      "model_module": "@jupyter-widgets/base",
      "model_module_version": "1.2.0",
      "model_name": "LayoutModel",
      "state": {}
     },
     "73686058abf04256b37202f279a3d11f": {
      "model_module": "@jupyter-widgets/base",
      "model_module_version": "1.2.0",
      "model_name": "LayoutModel",
      "state": {}
     },
     "76fcf45ddeea4cc78228e6f7930b626e": {
      "model_module": "@jupyter-widgets/controls",
      "model_module_version": "1.5.0",
      "model_name": "VBoxModel",
      "state": {
       "_dom_classes": [
        "widget-interact"
       ],
       "children": [
        "IPY_MODEL_7a5e9b2c0dc243c6ada067f3e97074be",
        "IPY_MODEL_86df9093d8c24cea85db8f546aeb2225",
        "IPY_MODEL_4373df918e7146e0a16f26d1e90f8d62"
       ],
       "layout": "IPY_MODEL_6785bf7e548c44f091c73925bae6c0fa"
      }
     },
     "7a5e9b2c0dc243c6ada067f3e97074be": {
      "model_module": "@jupyter-widgets/controls",
      "model_module_version": "1.5.0",
      "model_name": "IntSliderModel",
      "state": {
       "description": "N",
       "layout": "IPY_MODEL_73686058abf04256b37202f279a3d11f",
       "max": 30,
       "min": -10,
       "style": "IPY_MODEL_ff2c09f9d354494ba7e4f6710272f734",
       "value": 10
      }
     },
     "7bcf55c203c34a86a51c380399b4cb90": {
      "model_module": "@jupyter-widgets/output",
      "model_module_version": "1.0.0",
      "model_name": "OutputModel",
      "state": {
       "layout": "IPY_MODEL_192480e28d6949e5b5d0a3d7fd6308dc",
       "outputs": [
        {
         "data": {
          "image/png": "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\n",
          "text/plain": "<Figure size 720x144 with 1 Axes>"
         },
         "metadata": {
          "needs_background": "light"
         },
         "output_type": "display_data"
        }
       ]
      }
     },
     "7ec68a58c57f4856a766e2304e8aac2d": {
      "model_module": "@jupyter-widgets/controls",
      "model_module_version": "1.5.0",
      "model_name": "SliderStyleModel",
      "state": {
       "description_width": ""
      }
     },
     "86df9093d8c24cea85db8f546aeb2225": {
      "model_module": "@jupyter-widgets/controls",
      "model_module_version": "1.5.0",
      "model_name": "FloatSliderModel",
      "state": {
       "description": "rn",
       "layout": "IPY_MODEL_41f2ce459f1445edb8fc2e66ad07df14",
       "max": 1,
       "step": 0.1,
       "style": "IPY_MODEL_4acd782be13448f18c409dda933e0a4a"
      }
     },
     "98087fe03aea491c84810a61a6f551f1": {
      "model_module": "@jupyter-widgets/base",
      "model_module_version": "1.2.0",
      "model_name": "LayoutModel",
      "state": {}
     },
     "b068a44227bb45cda391810479955366": {
      "model_module": "@jupyter-widgets/controls",
      "model_module_version": "1.5.0",
      "model_name": "SliderStyleModel",
      "state": {
       "description_width": ""
      }
     },
     "bd2e7d3e83694aeb967aa714b210dd10": {
      "model_module": "@jupyter-widgets/base",
      "model_module_version": "1.2.0",
      "model_name": "LayoutModel",
      "state": {}
     },
     "cd2acdd6a72d4821929279f75071c4a8": {
      "model_module": "@jupyter-widgets/controls",
      "model_module_version": "1.5.0",
      "model_name": "VBoxModel",
      "state": {
       "_dom_classes": [
        "widget-interact"
       ],
       "children": [
        "IPY_MODEL_20f1830d3b6a4b898a2978f786d6b13e",
        "IPY_MODEL_2594a6c5236b4e8c900b7a0f39943596",
        "IPY_MODEL_7bcf55c203c34a86a51c380399b4cb90"
       ],
       "layout": "IPY_MODEL_98087fe03aea491c84810a61a6f551f1"
      }
     },
     "ff2c09f9d354494ba7e4f6710272f734": {
      "model_module": "@jupyter-widgets/controls",
      "model_module_version": "1.5.0",
      "model_name": "SliderStyleModel",
      "state": {
       "description_width": ""
      }
     }
    },
    "version_major": 2,
    "version_minor": 0
   }
  }
 },
 "nbformat": 4,
 "nbformat_minor": 2
}
