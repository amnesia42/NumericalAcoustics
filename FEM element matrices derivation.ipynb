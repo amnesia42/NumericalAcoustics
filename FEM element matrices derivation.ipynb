{
 "cells": [
  {
   "cell_type": "markdown",
   "metadata": {},
   "source": [
    "#### This is a [jupyter](https://jupyter.org/) notebook that contains text, equations, images and executable code in one document."
   ]
  },
  {
   "cell_type": "code",
   "execution_count": 1,
   "metadata": {},
   "outputs": [],
   "source": [
    "import numpy as np\n",
    "import matplotlib.pyplot as plt\n",
    "import sympy as sy\n",
    "%matplotlib inline\n",
    "sy.init_printing(use_latex=True)"
   ]
  },
  {
   "cell_type": "markdown",
   "metadata": {},
   "source": [
    "# Finite Elements: Element Matrices\n",
    "Starting with the Helmholtz equation and using the principle of weighted residuals we arrive at the weak form\n",
    "\n",
    "\\begin{equation}\n",
    "\\int_\\Omega \\nabla \\underline w \\nabla \\underline p \\;\\mathrm d\\Omega -\n",
    "k^2 \\int_\\Omega \\underline w \\underline p \\;\\mathrm d\\Omega =\n",
    "\\int_\\Gamma \\underline w \\nabla \\underline p \\;\\mathrm d\\vec\\Gamma\n",
    "\\end{equation}\n",
    "\n",
    "with the unknown sound pressure $\\underline p$ (trial function) and the test function $\\underline w$. Using Galerkin's approach, both the trial function and the test function are approximated using the same interpolation functions. For one finite element, this is \n",
    "\n",
    "\\begin{gather}\n",
    " \\hat{\\underline p} = \\mathbf{N}^T \\mathbf{p},\\qquad\n",
    "\\nabla  \\hat{\\underline p}=\n",
    "\\underbrace{\\left(\n",
    " \\begin{array}~\n",
    "  \\frac\\partial{\\partial x}\\\\ \n",
    "  \\frac\\partial{\\partial y}\\\\ \n",
    "  \\frac\\partial{\\partial z} \n",
    " \\end{array}\n",
    "\\right)\n",
    "\\mathbf{N}^T}_{\\mathbf{\\nabla N}^T} \\mathbf{p} =\n",
    "\\mathbf{\\nabla N}^T \\mathbf{p}\\\\\n",
    "\\hat{\\underline w} = \\mathbf{N}^T \\mathbf{w},\\qquad\n",
    "\\nabla  \\hat{\\underline w}=\\mathbf{\\nabla N}^T \\mathbf{w}\n",
    "\\end{gather}.\n",
    "\n",
    "If we apply the weak form to just one finite element, we get\n",
    "\n",
    "\\begin{equation}\n",
    "\\left(\\int_\\Omega \\mathbf{\\nabla N} \\mathbf{\\nabla N}^T\n",
    "\\;\\mathrm d\\Omega \\right)\\mathbf{p}-\n",
    "k^2 \\left(\\int_\\Omega \\mathbf{N}\\mathbf{N}^T \\;\\mathrm d\\Omega\\right) \\mathbf{p} =\n",
    "\\int_\\Gamma \\mathbf{N} \\underbrace{\\nabla \\underline p \\;\\mathrm d\\vec\\Gamma}_{-\\mathrm j \\omega \\rho_0  \\mathrm{d} v_n}.\n",
    "\\end{equation}\n",
    "\n",
    "While the right hand side is given from the boundary conditions (Neumann B.C.), the left hand side integrals have to be computed."
   ]
  },
  {
   "cell_type": "markdown",
   "metadata": {},
   "source": [
    "###  Example: 1D linear finite elements\n",
    "As a first example, we use 1D linear finite elements. In this case, the two-node element has linear shape functions $N_1=\\frac12(1-r)$ and $N_2=\\frac12(1+r)$. Then, we can compute $\\mathbf{N}$ and $\\mathbf{\\nabla N}$ in local coordinates:"
   ]
  },
  {
   "cell_type": "code",
   "execution_count": 2,
   "metadata": {},
   "outputs": [
    {
     "data": {
      "image/png": "[encoded data removed]",
      "text/latex": [
       "$\\displaystyle \\left[\\begin{matrix}\\frac{1}{2} - \\frac{r}{2}\\\\\\frac{r}{2} + \\frac{1}{2}\\end{matrix}\\right]$"
      ],
      "text/plain": [
       "⎡1   r⎤\n",
       "⎢─ - ─⎥\n",
       "⎢2   2⎥\n",
       "⎢     ⎥\n",
       "⎢r   1⎥\n",
       "⎢─ + ─⎥\n",
       "⎣2   2⎦"
      ]
     },
     "metadata": {},
     "output_type": "display_data"
    },
    {
     "data": {
      "image/png": "[encoded data removed]",
      "text/latex": [
       "$\\displaystyle \\left[\\begin{matrix}- \\frac{1}{2}\\\\\\frac{1}{2}\\end{matrix}\\right]$"
      ],
      "text/plain": [
       "⎡-1/2⎤\n",
       "⎢    ⎥\n",
       "⎣1/2 ⎦"
      ]
     },
     "metadata": {},
     "output_type": "display_data"
    }
   ],
   "source": [
    "from sympy.abc import r,s, c, l\n",
    "from sympy.matrices import Matrix\n",
    "N1 = sy.Rational(1,2) * (1-r) # shape functions\n",
    "N2 = sy.Rational(1,2) * (1+r) \n",
    "N = Matrix([[N1,],[N2,]])\n",
    "nablaN = N.jacobian(Matrix([r,]))\n",
    "display(N,nablaN)"
   ]
  },
  {
   "cell_type": "markdown",
   "metadata": {},
   "source": [
    "where the _Rational_ expression is used to ensure that the fraction $\\frac 1 2$ are not canceled out. Now the the integrands for the integrals in the weak form can also be evaluated:"
   ]
  },
  {
   "cell_type": "code",
   "execution_count": 3,
   "metadata": {},
   "outputs": [
    {
     "data": {
      "image/png": "[encoded data removed]",
      "text/latex": [
       "$\\displaystyle \\left[\\begin{matrix}\\frac{1}{4} & - \\frac{1}{4}\\\\- \\frac{1}{4} & \\frac{1}{4}\\end{matrix}\\right]$"
      ],
      "text/plain": [
       "⎡1/4   -1/4⎤\n",
       "⎢          ⎥\n",
       "⎣-1/4  1/4 ⎦"
      ]
     },
     "metadata": {},
     "output_type": "display_data"
    },
    {
     "data": {
      "image/png": "[encoded data removed]",
      "text/latex": [
       "$\\displaystyle \\left[\\begin{matrix}\\frac{\\left(r - 1\\right)^{2}}{4} & \\frac{1}{4} - \\frac{r^{2}}{4}\\\\\\frac{1}{4} - \\frac{r^{2}}{4} & \\frac{\\left(r + 1\\right)^{2}}{4}\\end{matrix}\\right]$"
      ],
      "text/plain": [
       "⎡       2        2 ⎤\n",
       "⎢(r - 1)    1   r  ⎥\n",
       "⎢────────   ─ - ── ⎥\n",
       "⎢   4       4   4  ⎥\n",
       "⎢                  ⎥\n",
       "⎢      2          2⎥\n",
       "⎢ 1   r    (r + 1) ⎥\n",
       "⎢ ─ - ──   ────────⎥\n",
       "⎣ 4   4       4    ⎦"
      ]
     },
     "metadata": {},
     "output_type": "display_data"
    }
   ],
   "source": [
    "ig1 = sy.simplify(nablaN*nablaN.T) # first integrand\n",
    "ig2 = sy.simplify(N*N.T) # second integrand\n",
    "display(ig1,ig2)"
   ]
  },
  {
   "cell_type": "markdown",
   "metadata": {},
   "source": [
    "The integrands are of zeroth and second order, so it is sufficient to use a 2nd order gauss rule for the integration (in this special case, we could even do it analytically):"
   ]
  },
  {
   "cell_type": "code",
   "execution_count": 4,
   "metadata": {},
   "outputs": [
    {
     "data": {
      "image/png": "[encoded data removed]",
      "text/latex": [
       "$\\displaystyle \\left[\\begin{matrix}\\frac{1}{2} & - \\frac{1}{2}\\\\- \\frac{1}{2} & \\frac{1}{2}\\end{matrix}\\right]$"
      ],
      "text/plain": [
       "⎡1/2   -1/2⎤\n",
       "⎢          ⎥\n",
       "⎣-1/2  1/2 ⎦"
      ]
     },
     "metadata": {},
     "output_type": "display_data"
    },
    {
     "data": {
      "image/png": "[encoded data removed]",
      "text/latex": [
       "$\\displaystyle \\left[\\begin{matrix}\\frac{2}{3 c^{2}} & \\frac{1}{3 c^{2}}\\\\\\frac{1}{3 c^{2}} & \\frac{2}{3 c^{2}}\\end{matrix}\\right]$"
      ],
      "text/plain": [
       "⎡ 2     1  ⎤\n",
       "⎢────  ────⎥\n",
       "⎢   2     2⎥\n",
       "⎢3⋅c   3⋅c ⎥\n",
       "⎢          ⎥\n",
       "⎢ 1     2  ⎥\n",
       "⎢────  ────⎥\n",
       "⎢   2     2⎥\n",
       "⎣3⋅c   3⋅c ⎦"
      ]
     },
     "metadata": {},
     "output_type": "display_data"
    }
   ],
   "source": [
    "def integrate_gauss_2_1d(ig):\n",
    "    gsp = sy.sqrt(sy.Rational(1,3)) # 1/sqrt(3) , gauss 2nd order points\n",
    "    Igs = np.zeros_like(ig)\n",
    "    for ri in (-gsp,gsp):\n",
    "        Igs += ig.subs({r:ri})\n",
    "    return Igs\n",
    "\n",
    "K = integrate_gauss_2_1d(ig1) # stiffness matrix\n",
    "M = sy.simplify(integrate_gauss_2_1d(ig2)/c**2) # mass matrix\n",
    "display(K,M)"
   ]
  },
  {
   "cell_type": "markdown",
   "metadata": {},
   "source": [
    "These are the element matrices in local coordinates:\n",
    "\n",
    "\\begin{equation}\n",
    "\\mathbf{K_{el}}\\mathbf{p}-\n",
    "\\omega^2 \\mathbf{M_{el}} \\mathbf{p} =\n",
    "\\int_\\Gamma \\mathbf{N} \\underbrace{\\nabla \\underline p \\;\\mathrm d\\vec\\Gamma}_{-\\mathrm j \\omega \\rho_0  \\mathrm{d} v_n}.\n",
    "\\end{equation}\n",
    "\n",
    "Because of an analogy to mechanics, they are called the stiffness matrix $\\mathbf K$ and the mass matrix $\\mathbf M$. Note that the mass matrix also incorporates a factor $\\frac{1}{c^2}$ that was part of the $k^2$ before. Now, we need those matrices in global coordinates. We assume that the element stretches from $x_1=0$ to $x_2=l$. For the integration we need the Jacobian determinant, which is just a 1 by 1 matrix, or scalar, in this case. Additionally we note that we have to multiply the gradient $\\mathbf{\\nabla N}$ by the inverse of the Jacobian to go from local to global coordinates."
   ]
  },
  {
   "cell_type": "code",
   "execution_count": 5,
   "metadata": {},
   "outputs": [
    {
     "data": {
      "image/png": "[encoded data removed]",
      "text/latex": [
       "$\\displaystyle \\left[\\begin{matrix}- \\frac{x_{1}}{2} + \\frac{x_{2}}{2}\\end{matrix}\\right]$"
      ],
      "text/plain": [
       "⎡  x₁   x₂⎤\n",
       "⎢- ── + ──⎥\n",
       "⎣  2    2 ⎦"
      ]
     },
     "metadata": {},
     "output_type": "display_data"
    },
    {
     "data": {
      "image/png": "[encoded data removed]",
      "text/latex": [
       "$\\displaystyle - \\frac{x_{1}}{2} + \\frac{x_{2}}{2}$"
      ],
      "text/plain": [
       "  x₁   x₂\n",
       "- ── + ──\n",
       "  2    2 "
      ]
     },
     "metadata": {},
     "output_type": "display_data"
    },
    {
     "data": {
      "image/png": "[encoded data removed]",
      "text/latex": [
       "$\\displaystyle \\left[\\begin{matrix}\\frac{1}{- \\frac{x_{1}}{2} + \\frac{x_{2}}{2}}\\end{matrix}\\right]$"
      ],
      "text/plain": [
       "⎡    1    ⎤\n",
       "⎢─────────⎥\n",
       "⎢  x₁   x₂⎥\n",
       "⎢- ── + ──⎥\n",
       "⎣  2    2 ⎦"
      ]
     },
     "metadata": {},
     "output_type": "display_data"
    }
   ],
   "source": [
    "x1, x2 = sy.symbols(\"x1 x2\")\n",
    "x = N1*x1 + N2*x2 \n",
    "J = Matrix([x,]).jacobian(Matrix([r,]))\n",
    "display(J,J.det(),J.inv()) # the Jacobian matrix, its determinant and its inverse"
   ]
  },
  {
   "cell_type": "code",
   "execution_count": 6,
   "metadata": {},
   "outputs": [
    {
     "data": {
      "image/png": "[encoded data removed]",
      "text/latex": [
       "$\\displaystyle \\left[\\begin{matrix}- \\frac{1}{x_{1} - x_{2}} & \\frac{1}{x_{1} - x_{2}}\\\\\\frac{1}{x_{1} - x_{2}} & - \\frac{1}{x_{1} - x_{2}}\\end{matrix}\\right]$"
      ],
      "text/plain": [
       "⎡  -1        1   ⎤\n",
       "⎢───────  ───────⎥\n",
       "⎢x₁ - x₂  x₁ - x₂⎥\n",
       "⎢                ⎥\n",
       "⎢   1       -1   ⎥\n",
       "⎢───────  ───────⎥\n",
       "⎣x₁ - x₂  x₁ - x₂⎦"
      ]
     },
     "metadata": {},
     "output_type": "display_data"
    },
    {
     "data": {
      "image/png": "[encoded data removed]",
      "text/latex": [
       "$\\displaystyle \\left[\\begin{matrix}- \\frac{x_{1} - x_{2}}{3 c^{2}} & \\frac{- x_{1} + x_{2}}{6 c^{2}}\\\\\\frac{- x_{1} + x_{2}}{6 c^{2}} & - \\frac{x_{1} - x_{2}}{3 c^{2}}\\end{matrix}\\right]$"
      ],
      "text/plain": [
       "⎡-(x₁ - x₂)    -x₁ + x₂  ⎤\n",
       "⎢───────────   ────────  ⎥\n",
       "⎢       2           2    ⎥\n",
       "⎢    3⋅c         6⋅c     ⎥\n",
       "⎢                        ⎥\n",
       "⎢ -x₁ + x₂    -(x₁ - x₂) ⎥\n",
       "⎢ ────────    ───────────⎥\n",
       "⎢      2             2   ⎥\n",
       "⎣   6⋅c           3⋅c    ⎦"
      ]
     },
     "metadata": {},
     "output_type": "display_data"
    }
   ],
   "source": [
    "K = sy.simplify(integrate_gauss_2_1d( nablaN*J.inv() * J.inv().T*nablaN.T * J.det()))\n",
    "M = sy.simplify(integrate_gauss_2_1d(ig2*J.det())/c**2)\n",
    "display(K,M) # the integrals in global coordinates"
   ]
  },
  {
   "cell_type": "markdown",
   "metadata": {},
   "source": [
    "After the integration, we now have the matrices in global coordinates. Because the absolute values for $x_1$ and $x_2$ do not matter (but only the difference), we can substitute the length to get the final result."
   ]
  },
  {
   "cell_type": "code",
   "execution_count": 7,
   "metadata": {},
   "outputs": [
    {
     "data": {
      "image/png": "[encoded data removed]",
      "text/latex": [
       "$\\displaystyle \\left[\\begin{matrix}\\frac{1}{l} & - \\frac{1}{l}\\\\- \\frac{1}{l} & \\frac{1}{l}\\end{matrix}\\right]$"
      ],
      "text/plain": [
       "⎡ 1   -1 ⎤\n",
       "⎢ ─   ───⎥\n",
       "⎢ l    l ⎥\n",
       "⎢        ⎥\n",
       "⎢-1    1 ⎥\n",
       "⎢───   ─ ⎥\n",
       "⎣ l    l ⎦"
      ]
     },
     "metadata": {},
     "output_type": "display_data"
    },
    {
     "data": {
      "image/png": "[encoded data removed]",
      "text/latex": [
       "$\\displaystyle \\left[\\begin{matrix}\\frac{l}{3 c^{2}} & \\frac{l}{6 c^{2}}\\\\\\frac{l}{6 c^{2}} & \\frac{l}{3 c^{2}}\\end{matrix}\\right]$"
      ],
      "text/plain": [
       "⎡ l     l  ⎤\n",
       "⎢────  ────⎥\n",
       "⎢   2     2⎥\n",
       "⎢3⋅c   6⋅c ⎥\n",
       "⎢          ⎥\n",
       "⎢ l     l  ⎥\n",
       "⎢────  ────⎥\n",
       "⎢   2     2⎥\n",
       "⎣6⋅c   3⋅c ⎦"
      ]
     },
     "metadata": {},
     "output_type": "display_data"
    }
   ],
   "source": [
    "from sympy.abc import l\n",
    "element = {x1:0,x2:l}\n",
    "Kg = K.subs(element)\n",
    "Mg = M.subs(element)\n",
    "display(Kg,Mg)"
   ]
  },
  {
   "cell_type": "markdown",
   "metadata": {},
   "source": [
    "This is now the final result for the one-dimensional element matrices. The same way we one can compute those matrices for higher dimensional and higher order elements."
   ]
  },
  {
   "cell_type": "markdown",
   "metadata": {},
   "source": [
    "#### License\n",
    "\n",
    "This notebook is an [Open Educational Resource](https://en.wikipedia.org/wiki/Open_educational_resources). Feel free to use it for your own purposes. The text and the images are licensed under [Creative Commons Attribution 4.0](https://creativecommons.org/licenses/by/4.0/), and any code under the [MIT license](https://opensource.org/licenses/MIT). Please attribute the work as follows: Ennes Sarradj, Numerical Acoustics: Finite Elements: Element Matrices Derivation, 2019."
   ]
  },
  {
   "cell_type": "code",
   "execution_count": null,
   "metadata": {},
   "outputs": [],
   "source": []
  }
 ],
 "metadata": {
  "kernelspec": {
   "display_name": "Python 3",
   "language": "python",
   "name": "python3"
  },
  "language_info": {
   "codemirror_mode": {
    "name": "ipython",
    "version": 3
   },
   "file_extension": ".py",
   "mimetype": "text/x-python",
   "name": "python",
   "nbconvert_exporter": "python",
   "pygments_lexer": "ipython3",
   "version": "3.7.3"
  },
  "latex_envs": {
   "LaTeX_envs_menu_present": true,
   "autoclose": false,
   "autocomplete": true,
   "bibliofile": "biblio.bib",
   "cite_by": "apalike",
   "current_citInitial": 1,
   "eqLabelWithNumbers": true,
   "eqNumInitial": 1,
   "hotkeys": {
    "equation": "Ctrl-E",
    "itemize": "Ctrl-I"
   },
   "labels_anchors": false,
   "latex_user_defs": false,
   "report_style_numbering": false,
   "user_envs_cfg": false
  },
  "varInspector": {
   "cols": {
    "lenName": 16,
    "lenType": 16,
    "lenVar": 40
   },
   "kernels_config": {
    "python": {
     "delete_cmd_postfix": "",
     "delete_cmd_prefix": "del ",
     "library": "var_list.py",
     "varRefreshCmd": "print(var_dic_list())"
    },
    "r": {
     "delete_cmd_postfix": ") ",
     "delete_cmd_prefix": "rm(",
     "library": "var_list.r",
     "varRefreshCmd": "cat(var_dic_list()) "
    }
   },
   "oldHeight": 122.466666,
   "position": {
    "height": "296px",
    "left": "1107px",
    "right": "37px",
    "top": "141px",
    "width": "328px"
   },
   "types_to_exclude": [
    "module",
    "function",
    "builtin_function_or_method",
    "instance",
    "_Feature"
   ],
   "varInspector_section_display": "block",
   "window_display": false
  }
 },
 "nbformat": 4,
 "nbformat_minor": 2
}
